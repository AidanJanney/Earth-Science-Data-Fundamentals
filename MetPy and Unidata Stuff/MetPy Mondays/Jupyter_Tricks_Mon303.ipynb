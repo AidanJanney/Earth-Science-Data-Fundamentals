{
 "cells": [
  {
   "cell_type": "markdown",
   "metadata": {},
   "source": [
    "#### MetPy Mondays \\#303\n",
    "Referencing: https://www.youtube.com/watch?v=IFoeXXDhx7c"
   ]
  },
  {
   "cell_type": "code",
   "execution_count": 1,
   "metadata": {},
   "outputs": [],
   "source": [
    "import metpy.calc as mpcalc\n",
    "from metpy.units import units"
   ]
  },
  {
   "cell_type": "code",
   "execution_count": 2,
   "metadata": {},
   "outputs": [
    {
     "data": {
      "text/html": [
       "-7.1547958621652015 degree_Celsius"
      ],
      "text/latex": [
       "$-7.1547958621652015\\ \\mathrm{degree\\_Celsius}$"
      ],
      "text/plain": [
       "-7.1547958621652015 <Unit('degree_Celsius')>"
      ]
     },
     "execution_count": 2,
     "metadata": {},
     "output_type": "execute_result"
    }
   ],
   "source": [
    "my_temp = 24 * units.degC\n",
    "my_rh = 12 * units.percent # relative humidity\n",
    "\n",
    "\n",
    "my_dewpoint = mpcalc.dewpoint_from_relative_humidity(my_temp, my_rh)\n",
    "my_dewpoint"
   ]
  },
  {
   "cell_type": "markdown",
   "metadata": {},
   "source": [
    "### Using \\%who"
   ]
  },
  {
   "cell_type": "code",
   "execution_count": 3,
   "metadata": {},
   "outputs": [
    {
     "name": "stdout",
     "output_type": "stream",
     "text": [
      "mpcalc\t my_dewpoint\t my_rh\t my_temp\t units\t \n"
     ]
    }
   ],
   "source": [
    "## Listing of all loaded objects in the current space\n",
    "%who"
   ]
  },
  {
   "cell_type": "code",
   "execution_count": 4,
   "metadata": {},
   "outputs": [
    {
     "name": "stdout",
     "output_type": "stream",
     "text": [
      "No variables match your requested type.\n"
     ]
    }
   ],
   "source": [
    "## Look at all objects of float type\n",
    "%who float"
   ]
  },
  {
   "cell_type": "code",
   "execution_count": 5,
   "metadata": {},
   "outputs": [
    {
     "name": "stdout",
     "output_type": "stream",
     "text": [
      "my_dewpoint\t my_rh\t my_temp\t \n"
     ]
    }
   ],
   "source": [
    "## Makes sense, quantities with metpy units are now Quantity type because of the extra metadata\n",
    "%who Quantity"
   ]
  },
  {
   "cell_type": "markdown",
   "metadata": {},
   "source": [
    "### Using \\%pinfo\n"
   ]
  },
  {
   "cell_type": "code",
   "execution_count": 6,
   "metadata": {},
   "outputs": [
    {
     "name": "stdout",
     "output_type": "stream",
     "text": [
      "\u001b[0;31mType:\u001b[0m        Quantity\n",
      "\u001b[0;31mString form:\u001b[0m -7.1547958621652015 degree_Celsius\n",
      "\u001b[0;31mFile:\u001b[0m        ~/anaconda3/envs/pangeo/lib/python3.12/site-packages/pint/__init__.py\n",
      "\u001b[0;31mDocstring:\u001b[0m   <no docstring>"
     ]
    }
   ],
   "source": [
    "## Gives additional data about the variable\n",
    "%pinfo my_dewpoint"
   ]
  },
  {
   "cell_type": "code",
   "execution_count": 7,
   "metadata": {},
   "outputs": [
    {
     "name": "stdout",
     "output_type": "stream",
     "text": [
      "\u001b[0;31mType:\u001b[0m        float\n",
      "\u001b[0;31mString form:\u001b[0m 3.14\n",
      "\u001b[0;31mDocstring:\u001b[0m   Convert a string or number to a floating point number, if possible."
     ]
    }
   ],
   "source": [
    "a = 3.14\n",
    "%pinfo a"
   ]
  },
  {
   "cell_type": "markdown",
   "metadata": {},
   "source": [
    "### Using \\%load"
   ]
  },
  {
   "cell_type": "markdown",
   "metadata": {},
   "source": [
    "Say you have a big script that you want to use in this notebook (not just import), load magic will pull all of the stuff from that script into the notebook, also commenting out %load line"
   ]
  },
  {
   "cell_type": "code",
   "execution_count": 9,
   "metadata": {},
   "outputs": [],
   "source": [
    "# %load mapping.py\n",
    "# Copyright (c) 2018 MetPy Developers.\n",
    "# Distributed under the terms of the BSD 3-Clause License.\n",
    "# SPDX-License-Identifier: BSD-3-Clause\n",
    "\"\"\"Tools to help with mapping/geographic applications.\n",
    "\n",
    "Currently this includes tools for working with CartoPy projections.\n",
    "\n",
    "\"\"\"\n",
    "from ..cbook import Registry\n",
    "from ..plots.cartopy_utils import import_cartopy\n",
    "\n",
    "ccrs = import_cartopy()\n",
    "\n",
    "\n",
    "class CFProjection:\n",
    "    \"\"\"Handle parsing CF projection metadata.\"\"\"\n",
    "\n",
    "    # mapping from Cartopy to CF vocabulary\n",
    "    _default_attr_mapping = [('false_easting', 'false_easting'),\n",
    "                             ('false_northing', 'false_northing'),\n",
    "                             ('central_latitude', 'latitude_of_projection_origin'),\n",
    "                             ('central_longitude', 'longitude_of_projection_origin')]\n",
    "\n",
    "    projection_registry = Registry()\n",
    "\n",
    "    def __init__(self, attrs):\n",
    "        \"\"\"Initialize the CF Projection handler with a set of metadata attributes.\"\"\"\n",
    "        self._attrs = attrs\n",
    "\n",
    "    @classmethod\n",
    "    def register(cls, name):\n",
    "        \"\"\"Register a new projection to handle.\"\"\"\n",
    "        return cls.projection_registry.register(name)\n",
    "\n",
    "    @classmethod\n",
    "    def build_projection_kwargs(cls, source, mapping):\n",
    "        \"\"\"Handle mapping a dictionary of metadata to keyword arguments.\"\"\"\n",
    "        return cls._map_arg_names(source, cls._default_attr_mapping + mapping)\n",
    "\n",
    "    @staticmethod\n",
    "    def _map_arg_names(source, mapping):\n",
    "        \"\"\"Map one set of keys to another.\"\"\"\n",
    "        return {cartopy_name: source[cf_name] for cartopy_name, cf_name in mapping\n",
    "                if cf_name in source}\n",
    "\n",
    "    @property\n",
    "    def name(self):\n",
    "        \"\"\"Return the name of the projection.\"\"\"\n",
    "        return self._attrs.get('grid_mapping_name', 'unknown')\n",
    "\n",
    "    @property\n",
    "    def cartopy_globe(self):\n",
    "        \"\"\"Initialize a `cartopy.crs.Globe` from the metadata.\"\"\"\n",
    "        if 'earth_radius' in self._attrs:\n",
    "            kwargs = {'ellipse': 'sphere', 'semimajor_axis': self._attrs['earth_radius'],\n",
    "                      'semiminor_axis': self._attrs['earth_radius']}\n",
    "\n",
    "        else:\n",
    "            attr_mapping = [('semimajor_axis', 'semi_major_axis'),\n",
    "                            ('semiminor_axis', 'semi_minor_axis'),\n",
    "                            ('inverse_flattening', 'inverse_flattening')]\n",
    "            kwargs = self._map_arg_names(self._attrs, attr_mapping)\n",
    "\n",
    "            # Override CartoPy's default ellipse setting depending on whether\n",
    "            # we have any metadata to map about the spheroid.\n",
    "            kwargs['ellipse'] = None if kwargs else 'sphere'\n",
    "\n",
    "        # interpret the 0 inverse_flattening as a spherical datum\n",
    "        # and don't pass the value on.\n",
    "        if kwargs.get('inverse_flattening') == 0:\n",
    "            kwargs['ellipse'] = 'sphere'\n",
    "            kwargs.pop('inverse_flattening', None)\n",
    "\n",
    "        return ccrs.Globe(**kwargs)\n",
    "\n",
    "    @property\n",
    "    def cartopy_geodetic(self):\n",
    "        \"\"\"Make a `cartopy.crs.Geodetic` instance from the appropriate `cartopy.crs.Globe`.\"\"\"\n",
    "        return ccrs.Geodetic(self.cartopy_globe)\n",
    "\n",
    "    def to_cartopy(self):\n",
    "        \"\"\"Convert to a CartoPy projection.\"\"\"\n",
    "        globe = self.cartopy_globe\n",
    "        try:\n",
    "            proj_handler = self.projection_registry[self.name]\n",
    "        except KeyError:\n",
    "            raise ValueError(f'Unhandled projection: {self.name}') from None\n",
    "\n",
    "        return proj_handler(self._attrs, globe)\n",
    "\n",
    "    def to_pyproj(self):\n",
    "        \"\"\"Convert to a PyProj CRS.\"\"\"\n",
    "        import pyproj\n",
    "\n",
    "        return pyproj.CRS.from_cf(self._attrs)\n",
    "\n",
    "    def to_dict(self):\n",
    "        \"\"\"Get the dictionary of metadata attributes.\"\"\"\n",
    "        return self._attrs.copy()\n",
    "\n",
    "    def __str__(self):\n",
    "        \"\"\"Get a string representation of the projection.\"\"\"\n",
    "        return f'Projection: {self.name}'\n",
    "\n",
    "    def __getitem__(self, item):\n",
    "        \"\"\"Return a given attribute.\"\"\"\n",
    "        return self._attrs[item]\n",
    "\n",
    "    def __eq__(self, other):\n",
    "        \"\"\"Test equality (CFProjection with matching attrs).\"\"\"\n",
    "        return self.__class__ == other.__class__ and self.to_dict() == other.to_dict()\n",
    "\n",
    "    def __ne__(self, other):\n",
    "        \"\"\"Test inequality (not equal to).\"\"\"\n",
    "        return not self.__eq__(other)\n",
    "\n",
    "\n",
    "@CFProjection.register('geostationary')\n",
    "def make_geo(attrs_dict, globe):\n",
    "    \"\"\"Handle geostationary projection.\"\"\"\n",
    "    attr_mapping = [('satellite_height', 'perspective_point_height'),\n",
    "                    ('sweep_axis', 'sweep_angle_axis')]\n",
    "    kwargs = CFProjection.build_projection_kwargs(attrs_dict, attr_mapping)\n",
    "\n",
    "    # CartoPy can't handle central latitude for Geostationary (nor should it)\n",
    "    # Just remove it if it's 0.\n",
    "    if not kwargs.get('central_latitude'):\n",
    "        kwargs.pop('central_latitude', None)\n",
    "\n",
    "    # If sweep_angle_axis is not present, we should look for fixed_angle_axis and adjust\n",
    "    if 'sweep_axis' not in kwargs:\n",
    "        kwargs['sweep_axis'] = 'x' if attrs_dict['fixed_angle_axis'] == 'y' else 'y'\n",
    "\n",
    "    return ccrs.Geostationary(globe=globe, **kwargs)\n",
    "\n",
    "\n",
    "@CFProjection.register('lambert_conformal_conic')\n",
    "def make_lcc(attrs_dict, globe):\n",
    "    \"\"\"Handle Lambert conformal conic projection.\"\"\"\n",
    "    attr_mapping = [('central_longitude', 'longitude_of_central_meridian'),\n",
    "                    ('standard_parallels', 'standard_parallel')]\n",
    "    kwargs = CFProjection.build_projection_kwargs(attrs_dict, attr_mapping)\n",
    "    if 'standard_parallels' in kwargs:\n",
    "        try:\n",
    "            len(kwargs['standard_parallels'])\n",
    "        except TypeError:\n",
    "            kwargs['standard_parallels'] = [kwargs['standard_parallels']]\n",
    "    return ccrs.LambertConformal(globe=globe, **kwargs)\n",
    "\n",
    "\n",
    "@CFProjection.register('albers_conical_equal_area')\n",
    "def make_aea(attrs_dict, globe):\n",
    "    \"\"\"Handle Albers Equal Area.\"\"\"\n",
    "    attr_mapping = [('central_longitude', 'longitude_of_central_meridian'),\n",
    "                    ('standard_parallels', 'standard_parallel')]\n",
    "    kwargs = CFProjection.build_projection_kwargs(attrs_dict, attr_mapping)\n",
    "    if 'standard_parallels' in kwargs:\n",
    "        try:\n",
    "            len(kwargs['standard_parallels'])\n",
    "        except TypeError:\n",
    "            kwargs['standard_parallels'] = [kwargs['standard_parallels']]\n",
    "    return ccrs.AlbersEqualArea(globe=globe, **kwargs)\n",
    "\n",
    "\n",
    "@CFProjection.register('latitude_longitude')\n",
    "def make_latlon(attrs_dict, globe):\n",
    "    \"\"\"Handle plain latitude/longitude mapping.\"\"\"\n",
    "    # TODO: Really need to use Geodetic to pass the proper globe\n",
    "    return ccrs.PlateCarree()\n",
    "\n",
    "\n",
    "@CFProjection.register('mercator')\n",
    "def make_mercator(attrs_dict, globe):\n",
    "    \"\"\"Handle Mercator projection.\"\"\"\n",
    "    attr_mapping = [('latitude_true_scale', 'standard_parallel'),\n",
    "                    ('scale_factor', 'scale_factor_at_projection_origin')]\n",
    "    kwargs = CFProjection.build_projection_kwargs(attrs_dict, attr_mapping)\n",
    "\n",
    "    # Work around the fact that in CartoPy <= 0.16 can't handle the easting/northing\n",
    "    # or central_latitude in Mercator\n",
    "    if not kwargs.get('false_easting'):\n",
    "        kwargs.pop('false_easting', None)\n",
    "    if not kwargs.get('false_northing'):\n",
    "        kwargs.pop('false_northing', None)\n",
    "    if not kwargs.get('central_latitude'):\n",
    "        kwargs.pop('central_latitude', None)\n",
    "\n",
    "    return ccrs.Mercator(globe=globe, **kwargs)\n",
    "\n",
    "\n",
    "@CFProjection.register('stereographic')\n",
    "def make_stereo(attrs_dict, globe):\n",
    "    \"\"\"Handle generic stereographic projection.\"\"\"\n",
    "    attr_mapping = [('scale_factor', 'scale_factor_at_projection_origin')]\n",
    "    kwargs = CFProjection.build_projection_kwargs(attrs_dict, attr_mapping)\n",
    "\n",
    "    return ccrs.Stereographic(globe=globe, **kwargs)\n",
    "\n",
    "\n",
    "@CFProjection.register('polar_stereographic')\n",
    "def make_polar_stereo(attrs_dict, globe):\n",
    "    \"\"\"Handle polar stereographic projection.\"\"\"\n",
    "    attr_mapping = [('central_longitude', 'straight_vertical_longitude_from_pole'),\n",
    "                    ('true_scale_latitude', 'standard_parallel'),\n",
    "                    ('scale_factor', 'scale_factor_at_projection_origin')]\n",
    "    kwargs = CFProjection.build_projection_kwargs(attrs_dict, attr_mapping)\n",
    "\n",
    "    return ccrs.Stereographic(globe=globe, **kwargs)\n",
    "\n",
    "\n",
    "@CFProjection.register('rotated_latitude_longitude')\n",
    "def make_rotated_latlon(attrs_dict, globe):\n",
    "    \"\"\"Handle rotated latitude/longitude projection.\"\"\"\n",
    "    attr_mapping = [('pole_longitude', 'grid_north_pole_longitude'),\n",
    "                    ('pole_latitude', 'grid_north_pole_latitude'),\n",
    "                    ('central_rotated_longitude', 'north_pole_grid_longitude')]\n",
    "    kwargs = CFProjection.build_projection_kwargs(attrs_dict, attr_mapping)\n",
    "\n",
    "    return ccrs.RotatedPole(globe=globe, **kwargs)\n"
   ]
  },
  {
   "cell_type": "markdown",
   "metadata": {},
   "source": [
    "### Very quickly writing lines into a python script with %%writefile"
   ]
  },
  {
   "cell_type": "code",
   "execution_count": 11,
   "metadata": {},
   "outputs": [
    {
     "name": "stdout",
     "output_type": "stream",
     "text": [
      "Writing myawesome.py\n"
     ]
    }
   ],
   "source": [
    "%%writefile myawesome.py\n",
    "a = 1\n",
    "b = 2\n",
    "c = a + b"
   ]
  },
  {
   "cell_type": "markdown",
   "metadata": {},
   "source": [
    "### Discover more magic %lsmagic"
   ]
  },
  {
   "cell_type": "code",
   "execution_count": 26,
   "metadata": {},
   "outputs": [
    {
     "data": {
      "application/json": {
       "cell": {
        "!": "OSMagics",
        "HTML": "Other",
        "SVG": "Other",
        "bash": "Other",
        "capture": "ExecutionMagics",
        "code_wrap": "ExecutionMagics",
        "debug": "ExecutionMagics",
        "file": "Other",
        "html": "DisplayMagics",
        "javascript": "DisplayMagics",
        "js": "DisplayMagics",
        "latex": "DisplayMagics",
        "markdown": "DisplayMagics",
        "perl": "Other",
        "prun": "ExecutionMagics",
        "pypy": "Other",
        "python": "Other",
        "python2": "Other",
        "python3": "Other",
        "ruby": "Other",
        "script": "ScriptMagics",
        "sh": "Other",
        "svg": "DisplayMagics",
        "sx": "OSMagics",
        "system": "OSMagics",
        "time": "ExecutionMagics",
        "timeit": "ExecutionMagics",
        "writefile": "OSMagics"
       },
       "line": {
        "alias": "OSMagics",
        "alias_magic": "BasicMagics",
        "autoawait": "AsyncMagics",
        "autocall": "AutoMagics",
        "automagic": "AutoMagics",
        "autosave": "KernelMagics",
        "bookmark": "OSMagics",
        "cat": "Other",
        "cd": "OSMagics",
        "clear": "KernelMagics",
        "code_wrap": "ExecutionMagics",
        "colors": "BasicMagics",
        "conda": "PackagingMagics",
        "config": "ConfigMagics",
        "connect_info": "KernelMagics",
        "cp": "Other",
        "debug": "ExecutionMagics",
        "dhist": "OSMagics",
        "dirs": "OSMagics",
        "doctest_mode": "BasicMagics",
        "ed": "Other",
        "edit": "KernelMagics",
        "env": "OSMagics",
        "gui": "BasicMagics",
        "hist": "Other",
        "history": "HistoryMagics",
        "killbgscripts": "ScriptMagics",
        "ldir": "Other",
        "less": "KernelMagics",
        "lf": "Other",
        "lk": "Other",
        "ll": "Other",
        "load": "CodeMagics",
        "load_ext": "ExtensionMagics",
        "loadpy": "CodeMagics",
        "logoff": "LoggingMagics",
        "logon": "LoggingMagics",
        "logstart": "LoggingMagics",
        "logstate": "LoggingMagics",
        "logstop": "LoggingMagics",
        "ls": "Other",
        "lsmagic": "BasicMagics",
        "lx": "Other",
        "macro": "ExecutionMagics",
        "magic": "BasicMagics",
        "mamba": "PackagingMagics",
        "man": "KernelMagics",
        "matplotlib": "PylabMagics",
        "micromamba": "PackagingMagics",
        "mkdir": "Other",
        "more": "KernelMagics",
        "mv": "Other",
        "notebook": "BasicMagics",
        "page": "BasicMagics",
        "pastebin": "CodeMagics",
        "pdb": "ExecutionMagics",
        "pdef": "NamespaceMagics",
        "pdoc": "NamespaceMagics",
        "pfile": "NamespaceMagics",
        "pinfo": "NamespaceMagics",
        "pinfo2": "NamespaceMagics",
        "pip": "PackagingMagics",
        "popd": "OSMagics",
        "pprint": "BasicMagics",
        "precision": "BasicMagics",
        "prun": "ExecutionMagics",
        "psearch": "NamespaceMagics",
        "psource": "NamespaceMagics",
        "pushd": "OSMagics",
        "pwd": "OSMagics",
        "pycat": "OSMagics",
        "pylab": "PylabMagics",
        "qtconsole": "KernelMagics",
        "quickref": "BasicMagics",
        "recall": "HistoryMagics",
        "rehashx": "OSMagics",
        "reload_ext": "ExtensionMagics",
        "rep": "Other",
        "rerun": "HistoryMagics",
        "reset": "NamespaceMagics",
        "reset_selective": "NamespaceMagics",
        "rm": "Other",
        "rmdir": "Other",
        "run": "ExecutionMagics",
        "save": "CodeMagics",
        "sc": "OSMagics",
        "set_env": "OSMagics",
        "store": "StoreMagics",
        "sx": "OSMagics",
        "system": "OSMagics",
        "tb": "ExecutionMagics",
        "time": "ExecutionMagics",
        "timeit": "ExecutionMagics",
        "unalias": "OSMagics",
        "unload_ext": "ExtensionMagics",
        "who": "NamespaceMagics",
        "who_ls": "NamespaceMagics",
        "whos": "NamespaceMagics",
        "xdel": "NamespaceMagics",
        "xmode": "BasicMagics"
       }
      },
      "text/plain": [
       "Available line magics:\n",
       "%alias  %alias_magic  %autoawait  %autocall  %automagic  %autosave  %bookmark  %cat  %cd  %clear  %code_wrap  %colors  %conda  %config  %connect_info  %cp  %debug  %dhist  %dirs  %doctest_mode  %ed  %edit  %env  %gui  %hist  %history  %killbgscripts  %ldir  %less  %lf  %lk  %ll  %load  %load_ext  %loadpy  %logoff  %logon  %logstart  %logstate  %logstop  %ls  %lsmagic  %lx  %macro  %magic  %mamba  %man  %matplotlib  %micromamba  %mkdir  %more  %mv  %notebook  %page  %pastebin  %pdb  %pdef  %pdoc  %pfile  %pinfo  %pinfo2  %pip  %popd  %pprint  %precision  %prun  %psearch  %psource  %pushd  %pwd  %pycat  %pylab  %qtconsole  %quickref  %recall  %rehashx  %reload_ext  %rep  %rerun  %reset  %reset_selective  %rm  %rmdir  %run  %save  %sc  %set_env  %store  %sx  %system  %tb  %time  %timeit  %unalias  %unload_ext  %who  %who_ls  %whos  %xdel  %xmode\n",
       "\n",
       "Available cell magics:\n",
       "%%!  %%HTML  %%SVG  %%bash  %%capture  %%code_wrap  %%debug  %%file  %%html  %%javascript  %%js  %%latex  %%markdown  %%perl  %%prun  %%pypy  %%python  %%python2  %%python3  %%ruby  %%script  %%sh  %%svg  %%sx  %%system  %%time  %%timeit  %%writefile\n",
       "\n",
       "Automagic is ON, % prefix IS NOT needed for line magics."
      ]
     },
     "execution_count": 26,
     "metadata": {},
     "output_type": "execute_result"
    }
   ],
   "source": [
    "from IPython.display import JSON\n",
    "%lsmagic"
   ]
  },
  {
   "cell_type": "markdown",
   "metadata": {},
   "source": []
  }
 ],
 "metadata": {
  "kernelspec": {
   "display_name": "pangeo",
   "language": "python",
   "name": "python3"
  },
  "language_info": {
   "codemirror_mode": {
    "name": "ipython",
    "version": 3
   },
   "file_extension": ".py",
   "mimetype": "text/x-python",
   "name": "python",
   "nbconvert_exporter": "python",
   "pygments_lexer": "ipython3",
   "version": "3.12.3"
  }
 },
 "nbformat": 4,
 "nbformat_minor": 2
}
